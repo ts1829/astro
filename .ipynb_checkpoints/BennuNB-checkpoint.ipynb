{
 "cells": [
  {
   "cell_type": "code",
   "execution_count": 16,
   "metadata": {},
   "outputs": [
    {
     "name": "stderr",
     "output_type": "stream",
     "text": [
      "┌ Info: Precompiling Plots [91a5bcdd-55d7-5caf-9e0b-520d859cae80]\n",
      "└ @ Base loading.jl:1273\n"
     ]
    }
   ],
   "source": [
    "using IJulia\n",
    "using Plots\n",
    "using DelimitedFiles"
   ]
  },
  {
   "cell_type": "code",
   "execution_count": 6,
   "metadata": {},
   "outputs": [
    {
     "name": "stdout",
     "output_type": "stream",
     "text": [
      "\u001b[32m\u001b[1m Resolving\u001b[22m\u001b[39m package versions...\n",
      "\u001b[32m\u001b[1m  Updating\u001b[22m\u001b[39m `C:\\Users\\tim\\.julia\\environments\\v1.3\\Project.toml`\n",
      " \u001b[90m [5bab7191]\u001b[39m\u001b[92m + SPICE v0.1.1\u001b[39m\n",
      "\u001b[32m\u001b[1m  Updating\u001b[22m\u001b[39m `C:\\Users\\tim\\.julia\\environments\\v1.3\\Manifest.toml`\n",
      "\u001b[90m [no changes]\u001b[39m\n"
     ]
    }
   ],
   "source": [
    "import Pkg\n",
    "Pkg.add(\"SPICE\")"
   ]
  },
  {
   "cell_type": "code",
   "execution_count": 15,
   "metadata": {},
   "outputs": [
    {
     "data": {
      "text/plain": [
       "([-9.56125272844725e7, -2.045743840218591e8, -8.601309288645601e7], 806.0297772658076)"
      ]
     },
     "execution_count": 15,
     "metadata": {},
     "output_type": "execute_result"
    }
   ],
   "source": [
    "using SPICE\n",
    "\n",
    "# Load leap seconds kernel\n",
    "furnsh(\"SPICE_kernels/lsk/naif0012.tls\")\n",
    "\n",
    "# Convert the calendar date to ephemeris seconds past J2000\n",
    "et = utc2et(\"2018-02-06T20:45:00\")\n",
    "\n",
    "# Load a planetary ephemeris kernel\n",
    "furnsh(\"SPICE_kernels/spk/de430.bsp\")\n",
    "\n",
    "# Get the position of Mars at `et` w.r.t. Earth\n",
    "spkpos(\"mars_barycenter\", et, \"J2000\", \"none\", \"earth\")"
   ]
  },
  {
   "cell_type": "code",
   "execution_count": 25,
   "metadata": {},
   "outputs": [
    {
     "data": {
      "text/plain": [
       "4040×4 Array{String,2}:\n",
       " \"v\"  \"0.000000\"   \"0.000000\"   \"0.253214\"\n",
       " \"v\"  \"0.027957\"   \"0.000000\"   \"0.263068\"\n",
       " \"v\"  \"0.013803\"   \"0.023838\"   \"0.259042\"\n",
       " \"v\"  \"-0.013383\"  \"0.023093\"   \"0.250468\"\n",
       " \"v\"  \"-0.026002\"  \"0.000000\"   \"0.243019\"\n",
       " \"v\"  \"-0.013101\"  \"-0.022614\"  \"0.245483\"\n",
       " \"v\"  \"0.013561\"   \"-0.023432\"  \"0.254860\"\n",
       " \"v\"  \"0.056057\"   \"0.000000\"   \"0.261118\"\n",
       " \"v\"  \"0.047634\"   \"0.027421\"   \"0.255191\"\n",
       " \"v\"  \"0.027407\"   \"0.047332\"   \"0.254338\"\n",
       " \"v\"  \"0.000000\"   \"0.055305\"   \"0.257943\"\n",
       " \"v\"  \"-0.026978\"  \"0.046612\"   \"0.250708\"\n",
       " \"v\"  \"-0.045136\"  \"0.025980\"   \"0.241716\"\n",
       " ⋮                                        \n",
       " \"f\"  \"1304\"       \"1254\"       \"1343\"    \n",
       " \"f\"  \"1343\"       \"1254\"       \"1287\"    \n",
       " \"f\"  \"1276\"       \"1344\"       \"1286\"    \n",
       " \"f\"  \"1307\"       \"1344\"       \"1276\"    \n",
       " \"f\"  \"1305\"       \"996\"        \"1345\"    \n",
       " \"f\"  \"1345\"       \"996\"        \"1288\"    \n",
       " \"f\"  \"1320\"       \"1271\"       \"1346\"    \n",
       " \"f\"  \"1346\"       \"1271\"       \"1301\"    \n",
       " \"f\"  \"1284\"       \"1347\"       \"1318\"    \n",
       " \"f\"  \"1301\"       \"1347\"       \"1284\"    \n",
       " \"f\"  \"1271\"       \"1348\"       \"1319\"    \n",
       " \"f\"  \"1302\"       \"1348\"       \"1271\"    "
      ]
     },
     "execution_count": 25,
     "metadata": {},
     "output_type": "execute_result"
    }
   ],
   "source": [
    "#https://sbn.psi.edu/pds/resource/bennushape.html\n",
    "tabfile = readdlm(\"101955bennu.tab\", ' ', String, '\\n')"
   ]
  },
  {
   "cell_type": "code",
   "execution_count": 22,
   "metadata": {},
   "outputs": [
    {
     "data": {
      "text/plain": [
       "1-element Array{String,1}:\n",
       " \"v          0.000000  0.000000  0.253214\""
      ]
     },
     "execution_count": 22,
     "metadata": {},
     "output_type": "execute_result"
    }
   ],
   "source": [
    "tabfile[1,:]"
   ]
  },
  {
   "cell_type": "code",
   "execution_count": 44,
   "metadata": {},
   "outputs": [
    {
     "data": {
      "text/plain": [
       "1348×3 Array{Float64,2}:\n",
       "  0.0        0.0        0.253214\n",
       "  0.027957   0.0        0.263068\n",
       "  0.013803   0.023838   0.259042\n",
       " -0.013383   0.023093   0.250468\n",
       " -0.026002   0.0        0.243019\n",
       " -0.013101  -0.022614   0.245483\n",
       "  0.013561  -0.023432   0.25486 \n",
       "  0.056057   0.0        0.261118\n",
       "  0.047634   0.027421   0.255191\n",
       "  0.027407   0.047332   0.254338\n",
       "  0.0        0.055305   0.257943\n",
       " -0.026978   0.046612   0.250708\n",
       " -0.045136   0.02598    0.241716\n",
       "  ⋮                             \n",
       " -0.075452   0.155561  -0.166753\n",
       " -0.07748    0.142024  -0.173229\n",
       " -0.089324   0.137338  -0.176136\n",
       " -0.087028   0.15036   -0.167681\n",
       " -0.088274   0.144018  -0.172141\n",
       " -0.107782   0.128525  -0.170805\n",
       " -0.106154   0.118751  -0.170481\n",
       " -0.10726    0.135568  -0.166971\n",
       " -0.100265   0.131377  -0.177836\n",
       " -0.068848   0.127123  -0.181367\n",
       " -0.069737   0.120432  -0.184463\n",
       " -0.059051   0.126545  -0.184918"
      ]
     },
     "execution_count": 44,
     "metadata": {},
     "output_type": "execute_result"
    }
   ],
   "source": [
    "vertices = parse.(Float64,tabfile[tabfile[:,1].==\"v\",:][:,2:end])"
   ]
  },
  {
   "cell_type": "code",
   "execution_count": 43,
   "metadata": {},
   "outputs": [
    {
     "data": {
      "text/plain": [
       "2692×3 Array{Int64,2}:\n",
       "    1     2     3\n",
       "    1     3     4\n",
       "    1     4     5\n",
       "    1     5     6\n",
       "    1     6     7\n",
       "    1     7     2\n",
       "    2     8     9\n",
       "    2     9     3\n",
       "    3     9    10\n",
       "    3    10    11\n",
       "    3    11     4\n",
       "    4    11    12\n",
       "    4    12    13\n",
       "    ⋮            \n",
       " 1304  1254  1343\n",
       " 1343  1254  1287\n",
       " 1276  1344  1286\n",
       " 1307  1344  1276\n",
       " 1305   996  1345\n",
       " 1345   996  1288\n",
       " 1320  1271  1346\n",
       " 1346  1271  1301\n",
       " 1284  1347  1318\n",
       " 1301  1347  1284\n",
       " 1271  1348  1319\n",
       " 1302  1348  1271"
      ]
     },
     "execution_count": 43,
     "metadata": {},
     "output_type": "execute_result"
    }
   ],
   "source": [
    "facets = parse.(Int64,tabfile[tabfile[:,1].==\"f\",:][:,2:end])"
   ]
  },
  {
   "cell_type": "code",
   "execution_count": 42,
   "metadata": {},
   "outputs": [
    {
     "data": {
      "text/plain": [
       "23233"
      ]
     },
     "execution_count": 42,
     "metadata": {},
     "output_type": "execute_result"
    }
   ],
   "source": []
  },
  {
   "cell_type": "code",
   "execution_count": null,
   "metadata": {},
   "outputs": [],
   "source": []
  }
 ],
 "metadata": {
  "kernelspec": {
   "display_name": "Julia 1.3.1",
   "language": "julia",
   "name": "julia-1.3"
  },
  "language_info": {
   "file_extension": ".jl",
   "mimetype": "application/julia",
   "name": "julia",
   "version": "1.3.1"
  }
 },
 "nbformat": 4,
 "nbformat_minor": 4
}
